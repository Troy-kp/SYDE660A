{
 "cells": [
  {
   "cell_type": "code",
   "id": "fae4bf90-6b16-41c3-9a66-2ca135cc6007",
   "metadata": {
    "ExecuteTime": {
     "end_time": "2025-07-09T20:44:40.885882Z",
     "start_time": "2025-07-09T20:44:40.877733Z"
    }
   },
   "source": [
    "import json, sys, pathlib\n",
    "from typing import List, Dict"
   ],
   "outputs": [],
   "execution_count": 1
  },
  {
   "cell_type": "code",
   "id": "2c09599d-0c2d-40b6-a273-e3204a8e50e4",
   "metadata": {
    "ExecuteTime": {
     "end_time": "2025-07-09T20:46:41.617975Z",
     "start_time": "2025-07-09T20:46:41.610863Z"
    }
   },
   "source": [
    "# -----------------------------------------------------------------\n",
    "COURSE_ROOT = pathlib.Path(\"../API_course_data_filtered\")   # 总课程目录\n",
    "INPUT_FILE  = pathlib.Path(\"input.json\")                 # 前端写入\n",
    "OUTPUT_FILE = pathlib.Path(\"output.json\")                # 后端输出\n"
   ],
   "outputs": [],
   "execution_count": 4
  },
  {
   "cell_type": "code",
   "id": "b5fb6d65-feef-4134-bee3-3a0b06238fad",
   "metadata": {
    "ExecuteTime": {
     "end_time": "2025-07-09T20:46:45.608389Z",
     "start_time": "2025-07-09T20:46:45.602372Z"
    }
   },
   "source": [
    "# 2. 读取前端输入\n",
    "# -----------------------------------------------------------------\n",
    "params = json.loads(INPUT_FILE.read_text(encoding=\"utf-8\"))\n",
    "PROGRAM = params[\"program\"].upper()           # 如 'SYDE', 'ECE'\n",
    "SPEC    = params[\"specialization\"]\n",
    "START   = params[\"start_term\"]\n",
    "N_TERM  = params[\"num_terms\"]\n"
   ],
   "outputs": [],
   "execution_count": 7
  },
  {
   "cell_type": "code",
   "id": "ab4c4f64-65f2-4b31-8e43-d8bcc894912b",
   "metadata": {
    "ExecuteTime": {
     "end_time": "2025-07-09T20:47:09.148595Z",
     "start_time": "2025-07-09T20:47:09.140478Z"
    }
   },
   "source": [
    "# 3. 读取专业规则文件 ./<program>.json\n",
    "# -----------------------------------------------------------------\n",
    "RULES_PATH = pathlib.Path(f\"{PROGRAM.lower()}.json\")\n",
    "if not RULES_PATH.exists():\n",
    "    sys.exit(f\"[ERROR] Rule file {RULES_PATH} not found.\")\n",
    "\n",
    "rules_all = json.loads(RULES_PATH.read_text(encoding=\"utf-8\"))\n",
    "if SPEC not in rules_all:\n",
    "    sys.exit(f\"[ERROR] Unknown specialization {SPEC} in {RULES_PATH}.\")\n",
    "cfg = rules_all[SPEC]"
   ],
   "outputs": [],
   "execution_count": 9
  },
  {
   "cell_type": "code",
   "id": "7d272b11-73e6-4b1f-85c0-c30d8c573473",
   "metadata": {
    "ExecuteTime": {
     "end_time": "2025-07-09T20:47:12.503061Z",
     "start_time": "2025-07-09T20:47:12.493666Z"
    }
   },
   "source": [
    "# 4. 学期序列工具\n",
    "# -----------------------------------------------------------------\n",
    "TERM_MAP = {1: \"Winter\", 5: \"Spring\", 9: \"Fall\"}\n",
    "\n",
    "def next_term_code(code: str) -> str:\n",
    "    \"\"\"'1251' → '1255' → '1259' → '1261' ...\"\"\"\n",
    "    yy, d = int(code[1:3]), int(code[3])\n",
    "    nd = {1:5, 5:9, 9:1}[d]\n",
    "    if nd == 1: yy += 1\n",
    "    return f\"1{yy:02d}{nd}\"\n",
    "\n",
    "def term_sequence(start: str, n: int) -> List[str]:\n",
    "    seq = [start]\n",
    "    while len(seq) < n:\n",
    "        seq.append(next_term_code(seq[-1]))\n",
    "    return seq\n",
    "\n",
    "TERMS = term_sequence(START, N_TERM)\n"
   ],
   "outputs": [],
   "execution_count": 10
  },
  {
   "cell_type": "code",
   "id": "5ede9c59-1ecb-49ee-b5a7-bcb3e922d98d",
   "metadata": {
    "ExecuteTime": {
     "end_time": "2025-07-09T20:47:15.725376Z",
     "start_time": "2025-07-09T20:47:15.715921Z"
    }
   },
   "source": [
    "# 5. 加载课程开课信息（仅在对应院系文件夹搜索）\n",
    "# -----------------------------------------------------------------\n",
    "def load_offerings(program: str, term_codes: List[str]) -> Dict[str, List[str]]:\n",
    "    base = COURSE_ROOT / program\n",
    "    if not base.is_dir():\n",
    "        sys.exit(f\"[ERROR] {base} not found.\")\n",
    "    offers: Dict[str, List[str]] = {}\n",
    "    for tc in term_codes:\n",
    "        file_path = base / f\"{tc}.json\"\n",
    "        if not file_path.exists():\n",
    "            continue\n",
    "        for course in json.loads(file_path.read_text()):\n",
    "            code = f\"{course['subjectCode']} {course['catalogNumber']}\"\n",
    "            offers.setdefault(code, []).append(tc)\n",
    "    return offers\n",
    "\n",
    "offers = load_offerings(PROGRAM, TERMS)"
   ],
   "outputs": [],
   "execution_count": 12
  },
  {
   "cell_type": "code",
   "id": "b8be74e4-05ce-486a-838c-0c93099e357e",
   "metadata": {
    "ExecuteTime": {
     "end_time": "2025-07-09T20:47:18.100032Z",
     "start_time": "2025-07-09T20:47:18.091956Z"
    }
   },
   "source": [
    "# 6. 处理规则：固定必修、OR 组、Elective\n",
    "# ---------------------------------]-------------------------------\n",
    "def choose_from_or(or_groups):\n",
    "    picks = []\n",
    "    for group in or_groups:\n",
    "        # 优先挑选当前时间窗内可修课程，否则默认取第 1 门\n",
    "        avail = [c for c in group if c in offers]\n",
    "        picks.append(avail[0] if avail else group[0])\n",
    "    return picks\n",
    "\n",
    "required = cfg[\"specified_fixed\"] + choose_from_or(cfg.get(\"specified_or\", []))\n",
    "elective_pool = cfg[\"elective\"][\"list\"]\n",
    "elective_min  = cfg[\"elective\"][\"min_count\"]"
   ],
   "outputs": [],
   "execution_count": 13
  },
  {
   "cell_type": "code",
   "id": "5efb2097-bff8-4441-980b-c01c48aa75e5",
   "metadata": {
    "ExecuteTime": {
     "end_time": "2025-07-09T20:47:20.231733Z",
     "start_time": "2025-07-09T20:47:20.223809Z"
    }
   },
   "source": [
    "def wrap(code):\n",
    "    return {\n",
    "        \"code\": code,\n",
    "        \"offered_terms\": offers.get(code, [])\n",
    "    }\n",
    "\n",
    "result = {\n",
    "    \"terms\": TERMS,\n",
    "    \"required\":  [wrap(c) for c in required],\n",
    "    \"elective\":  [wrap(c) for c in elective_pool],\n",
    "    \"elective_min\": elective_min,\n",
    "    \"other\": []                       # 预留\n",
    "}\n"
   ],
   "outputs": [],
   "execution_count": 14
  },
  {
   "cell_type": "code",
   "id": "5466814a-77e6-423d-83ee-c27c65f1343e",
   "metadata": {
    "ExecuteTime": {
     "end_time": "2025-07-09T20:48:47.531299Z",
     "start_time": "2025-07-09T20:48:47.524721Z"
    }
   },
   "source": [
    "# 7. 写出 output.json\n",
    "# -----------------------------------------------------------------\n",
    "OUTPUT_FILE.write_text(json.dumps(result, indent=2), encoding=\"utf-8\")\n",
    "print(f\"[OK] Course pool written to {OUTPUT_FILE}\")\n",
    "print(OUTPUT_FILE)"
   ],
   "outputs": [
    {
     "name": "stdout",
     "output_type": "stream",
     "text": [
      "[OK] Course pool written to output.json\n",
      "output.json\n"
     ]
    }
   ],
   "execution_count": 16
  }
 ],
 "metadata": {
  "kernelspec": {
   "display_name": "Python 3 (ipykernel)",
   "language": "python",
   "name": "python3"
  },
  "language_info": {
   "codemirror_mode": {
    "name": "ipython",
    "version": 3
   },
   "file_extension": ".py",
   "mimetype": "text/x-python",
   "name": "python",
   "nbconvert_exporter": "python",
   "pygments_lexer": "ipython3",
   "version": "3.13.3"
  }
 },
 "nbformat": 4,
 "nbformat_minor": 5
}
