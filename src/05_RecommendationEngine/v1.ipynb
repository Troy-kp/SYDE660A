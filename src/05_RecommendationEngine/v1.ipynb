{
 "cells": [
  {
   "cell_type": "code",
   "execution_count": 1,
   "id": "337402b7-6f48-445d-ada6-83649df6e576",
   "metadata": {},
   "outputs": [],
   "source": [
    "import json, os, itertools\n",
    "from pathlib import Path\n",
    "from typing import List, Dict, Tuple"
   ]
  },
  {
   "cell_type": "code",
   "execution_count": 2,
   "id": "57d1d231-4793-45ec-a623-ddba9d5516f3",
   "metadata": {
    "tags": []
   },
   "outputs": [],
   "source": [
    "SPECIALIZATION = \"AI & ML\"\n",
    "\n",
    "SPECIFIED_FIXED = [\"SYDE 600\", \"SYDE 660A\", \"SYDE 675\"]      # 必修\n",
    "SPECIFIED_OR    = [(\"SYDE 522\", \"SYDE 552\")]    # 二选一\n",
    "ELECTIVE_LIST   = [\"SYDE 662\", \"SYDE 671\",\n",
    "                   \"SYDE 672\", \"SYDE 673\", \"SYDE 674\"]\n",
    "\n",
    "# 每学期容量 (MEng 典型 3-3-2)\n",
    "SEM_CAPACITY = [3, 3, 2]\n"
   ]
  },
  {
   "cell_type": "code",
   "execution_count": 3,
   "id": "b31d86ff-f35d-448e-91bd-214ed66773f6",
   "metadata": {
    "tags": []
   },
   "outputs": [],
   "source": [
    "TERM_MAP = {1: \"Winter\", 5: \"Spring\", 9: \"Fall\"}\n",
    "\n",
    "def next_term_code(code: str) -> str:\n",
    "    \"\"\"给定学期代码 '1251' → 下一个代码 '1255'.\"\"\"\n",
    "    year = int(code[:2])\n",
    "    digit = int(code[2])\n",
    "    next_digit = {1: 5, 5: 9, 9: 1}[digit]\n",
    "    if next_digit == 1:\n",
    "        year += 1\n",
    "    return f\"{year:02d}{next_digit}\""
   ]
  },
  {
   "cell_type": "code",
   "execution_count": 4,
   "id": "d3bf5aab-0f52-4ab6-9679-b2a413e31c83",
   "metadata": {
    "tags": []
   },
   "outputs": [],
   "source": [
    "def term_sequence(start: str, n: int) -> List[str]:\n",
    "    seq = [start]\n",
    "    for _ in range(n - 1):\n",
    "        seq.append(next_term_code(seq[-1]))\n",
    "    return seq"
   ]
  },
  {
   "cell_type": "code",
   "execution_count": 5,
   "id": "8c2546b3-d4a7-4f94-a5b8-fc14755e8b41",
   "metadata": {
    "tags": []
   },
   "outputs": [],
   "source": [
    "def load_offerings(term_codes: List[str],\n",
    "                   folder: Path = Path(\".\")) -> Dict[str, List[str]]:\n",
    "    \"\"\"\n",
    "    返回 dict:  course_code -> [term_code, ...]\n",
    "    若某学期文件缺失则忽略\n",
    "    \"\"\"\n",
    "    offers = {}\n",
    "    for tc in term_codes:\n",
    "        file_path = folder / f\"{tc}.json\"\n",
    "        if not file_path.exists():\n",
    "            continue\n",
    "        data = json.loads(file_path.read_text(encoding=\"utf-8\"))\n",
    "        for c in data:\n",
    "            code = f\"{c['subjectCode']} {c['catalogNumber']}\"\n",
    "            offers.setdefault(code, []).append(tc)\n",
    "    return offers"
   ]
  },
  {
   "cell_type": "code",
   "execution_count": 6,
   "id": "5c05e3c8-0384-4224-8c9b-34fc13ec2b07",
   "metadata": {
    "tags": []
   },
   "outputs": [],
   "source": [
    "def human_term(tc: str) -> str:\n",
    "    return f\"{TERM_MAP[int(tc[2])]} 20{tc[:2]}\""
   ]
  },
  {
   "cell_type": "code",
   "execution_count": 7,
   "id": "b2289878-0099-456d-b043-3e3dbf9bc78b",
   "metadata": {
    "tags": []
   },
   "outputs": [],
   "source": [
    "def main():\n",
    "    # === 1. 用户输入 ===\n",
    "    start_tc   = input(\"起始学期代码 (e.g. 1251): \").strip()\n",
    "    num_terms  = int(input(\"规划学期数 (e.g. 3): \").strip())\n",
    "\n",
    "    # === 2. 生成学期序列 ===\n",
    "    terms = term_sequence(start_tc, num_terms)\n",
    "    print(\"\\n学期序列:\", [human_term(t) for t in terms])\n",
    "\n",
    "    # === 3. 读取本地 JSON / API 数据 ===\n",
    "    offerings = load_offerings(terms, Path(\"./final_verified_course_data/SYDE\"))\n",
    "\n",
    "    # === 4. Specified 课程选择 (522 *或* 552) ===\n",
    "    chosen_or = None\n",
    "    for cand in SPECIFIED_OR[0]:          # 只有一组二选一\n",
    "        if cand in offerings:\n",
    "            chosen_or = cand\n",
    "            break\n",
    "    specified_courses = SPECIFIED_FIXED + ([chosen_or] if chosen_or else [])\n",
    "\n",
    "    # === 5. 统计出现情况 ===\n",
    "    rows: List[Tuple[str, str, str]] = []   # 课程, 类型, 出现学期\n",
    "    def push(code, typ):\n",
    "        terms_found = \", \".join(human_term(t) for t in offerings.get(code, []))\n",
    "        rows.append((code, typ, terms_found or \"❌ 未开\"))\n",
    "\n",
    "    for c in SPECIFIED_FIXED:\n",
    "        push(c, \"Specified\")\n",
    "    push(\"SYDE 522 / 552\", \"Specified-(1 of 2)\")  # 汇总显示\n",
    "    for c in ELECTIVE_LIST:\n",
    "        push(c, \"Elective\")\n",
    "\n",
    "    # === 6. 打印统计表 ===\n",
    "    print(\"\\n==== 课程出现统计 ====\\n\")\n",
    "    print(f\"{'Course':<20}{'Type':<18}{'Terms Offered'}\")\n",
    "    print(\"-\"*60)\n",
    "    for code, typ, termstr in rows:\n",
    "        print(f\"{code:<20}{typ:<18}{termstr}\")\n",
    "\n",
    "    # === 7. 打印空白课表模板 ===\n",
    "    print(\"\\n==== 空白课表 (容量 3-3-2) ====\")\n",
    "    for idx, tc in enumerate(terms):\n",
    "        slots = [\"[ ]\"] * SEM_CAPACITY[idx]\n",
    "        print(f\"{human_term(tc):<12}\", \"  \".join(slots))\n",
    "\n",
    "    # === 8. 简要建议 ===\n",
    "    print(\"\\n提示：\")\n",
    "    print(\" 1) 先把所有 Specified 课程放入对应开课学期。\")\n",
    "    print(\" 2) Elective 列表中至少选择 1 门; 如列表中无课可选, 需要延长规划。\")\n",
    "    print(\" 3) 其余空位可填自由 SYDE / 非 SYDE 课程, 保证总数≥8, SYDE≥5.\")\n"
   ]
  },
  {
   "cell_type": "code",
   "execution_count": 9,
   "id": "fc3f2c2d-df74-43af-a7d4-a466749aca7f",
   "metadata": {
    "tags": []
   },
   "outputs": [
    {
     "name": "stdin",
     "output_type": "stream",
     "text": [
      "起始学期代码 (e.g. 1251):  1251\n",
      "规划学期数 (e.g. 3):  3\n"
     ]
    },
    {
     "name": "stdout",
     "output_type": "stream",
     "text": [
      "\n",
      "学期序列: ['Spring 2012', 'Fall 2012', 'Winter 2013']\n",
      "\n",
      "==== 课程出现统计 ====\n",
      "\n",
      "Course              Type              Terms Offered\n",
      "------------------------------------------------------------\n",
      "SYDE 660A           Specified         ❌ 未开\n",
      "SYDE 675            Specified         Spring 2012\n",
      "SYDE 522 / 552      Specified-(1 of 2)❌ 未开\n",
      "SYDE 662            Elective          ❌ 未开\n",
      "SYDE 671            Elective          ❌ 未开\n",
      "SYDE 672            Elective          ❌ 未开\n",
      "SYDE 673            Elective          Spring 2012\n",
      "SYDE 674            Elective          ❌ 未开\n",
      "\n",
      "==== 空白课表 (容量 3-3-2) ====\n",
      "Spring 2012  [ ]  [ ]  [ ]\n",
      "Fall 2012    [ ]  [ ]  [ ]\n",
      "Winter 2013  [ ]  [ ]\n",
      "\n",
      "提示：\n",
      " 1) 先把所有 Specified 课程放入对应开课学期。\n",
      " 2) Elective 列表中至少选择 1 门; 如列表中无课可选, 需要延长规划。\n",
      " 3) 其余空位可填自由 SYDE / 非 SYDE 课程, 保证总数≥8, SYDE≥5.\n"
     ]
    }
   ],
   "source": [
    "if __name__ == \"__main__\":\n",
    "    main()"
   ]
  },
  {
   "cell_type": "code",
   "execution_count": null,
   "id": "c99e8f9d-5c9e-47a8-92cf-c828f180cc88",
   "metadata": {},
   "outputs": [],
   "source": []
  }
 ],
 "metadata": {
  "kernelspec": {
   "display_name": "Python 3 (ipykernel)",
   "language": "python",
   "name": "python3"
  },
  "language_info": {
   "codemirror_mode": {
    "name": "ipython",
    "version": 3
   },
   "file_extension": ".py",
   "mimetype": "text/x-python",
   "name": "python",
   "nbconvert_exporter": "python",
   "pygments_lexer": "ipython3",
   "version": "3.13.3"
  }
 },
 "nbformat": 4,
 "nbformat_minor": 5
}
